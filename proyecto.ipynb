{
 "cells": [
  {
   "cell_type": "code",
   "execution_count": 19,
   "metadata": {},
   "outputs": [],
   "source": [
    "import matplotlib.pyplot as plt\n",
    "import numpy as np\n",
    "import pandas as pd"
   ]
  },
  {
   "cell_type": "code",
   "execution_count": 20,
   "metadata": {},
   "outputs": [
    {
     "name": "stdout",
     "output_type": "stream",
     "text": [
      "      Salesprice  Overall Quality  1stFlrSF  TotalRmsAbvGrd  YearBuilt  \\\n",
      "0       208500.0              7.0     856.0             8.0     2003.0   \n",
      "1       181500.0              6.0    1262.0             6.0     1976.0   \n",
      "2       223500.0              7.0     920.0             6.0     2001.0   \n",
      "3       140000.0              7.0     961.0             7.0     1915.0   \n",
      "4       250000.0              8.0    1145.0             9.0     2000.0   \n",
      "...          ...              ...       ...             ...        ...   \n",
      "1455    175000.0              6.0     953.0             7.0     1999.0   \n",
      "1456    210000.0              6.0    2073.0             7.0     1978.0   \n",
      "1457    266500.0              7.0    1188.0             9.0     1941.0   \n",
      "1458    142125.0              5.0    1078.0             5.0     1950.0   \n",
      "1459    147500.0              5.0    1256.0             6.0     1965.0   \n",
      "\n",
      "      LotFrontage  \n",
      "0            65.0  \n",
      "1            80.0  \n",
      "2            68.0  \n",
      "3            60.0  \n",
      "4            84.0  \n",
      "...           ...  \n",
      "1455         62.0  \n",
      "1456         85.0  \n",
      "1457         66.0  \n",
      "1458         68.0  \n",
      "1459         75.0  \n",
      "\n",
      "[1460 rows x 6 columns]\n"
     ]
    }
   ],
   "source": [
    "rd = np.load('./proyecto_training_data.npy')\n",
    "df = pd.DataFrame(rd, columns=['Salesprice','Overall Quality','1stFlrSF','TotalRmsAbvGrd','YearBuilt','LotFrontage'])\n",
    "print(df)"
   ]
  },
  {
   "cell_type": "code",
   "execution_count": 21,
   "metadata": {},
   "outputs": [
    {
     "name": "stdout",
     "output_type": "stream",
     "text": [
      "      Salesprice  Overall Quality  1stFlrSF  TotalRmsAbvGrd  YearBuilt\n",
      "1169    625000.0             10.0    1831.0            10.0     1995.0\n",
      "1170    171000.0              6.0    1118.0             6.0     1977.0\n",
      "1171    163000.0              6.0    1261.0             6.0     1958.0\n",
      "1172    171900.0              7.0     625.0             5.0     2006.0\n",
      "1173    200500.0              5.0    1636.0            12.0     1946.0\n",
      "...          ...              ...       ...             ...        ...\n",
      "1455    175000.0              6.0     953.0             7.0     1999.0\n",
      "1456    210000.0              6.0    2073.0             7.0     1978.0\n",
      "1457    266500.0              7.0    1188.0             9.0     1941.0\n",
      "1458    142125.0              5.0    1078.0             5.0     1950.0\n",
      "1459    147500.0              5.0    1256.0             6.0     1965.0\n",
      "\n",
      "[291 rows x 5 columns]\n"
     ]
    }
   ],
   "source": [
    "df80 = df.iloc [0:1168,0:5]\n",
    "df20 = df.iloc [1169:1460,0:5]\n",
    "print(df20)"
   ]
  }
 ],
 "metadata": {
  "kernelspec": {
   "display_name": "Python 3",
   "language": "python",
   "name": "python3"
  },
  "language_info": {
   "codemirror_mode": {
    "name": "ipython",
    "version": 3
   },
   "file_extension": ".py",
   "mimetype": "text/x-python",
   "name": "python",
   "nbconvert_exporter": "python",
   "pygments_lexer": "ipython3",
   "version": "3.11.1"
  },
  "orig_nbformat": 4,
  "vscode": {
   "interpreter": {
    "hash": "7c063d17b37de0fc154a235cc297f95a093b61bab8c9b90cfdb9eb444cf73c75"
   }
  }
 },
 "nbformat": 4,
 "nbformat_minor": 2
}
