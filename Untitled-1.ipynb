{
 "cells": [
  {
   "cell_type": "code",
   "execution_count": 21,
   "metadata": {},
   "outputs": [],
   "source": [
    "import numpy as np\n",
    "import pandas as pd\n",
    "import matplotlib as plt"
   ]
  },
  {
   "cell_type": "code",
   "execution_count": 22,
   "metadata": {},
   "outputs": [
    {
     "name": "stdout",
     "output_type": "stream",
     "text": [
      "[10 20 30 40 50 60 70 80]\n"
     ]
    }
   ],
   "source": [
    "pd.Series(np.random.rand(8)) \n",
    "index = np.arange(10,90,10)\n",
    "print(index)"
   ]
  },
  {
   "cell_type": "code",
   "execution_count": 23,
   "metadata": {},
   "outputs": [
    {
     "name": "stdout",
     "output_type": "stream",
     "text": [
      "   ColumnaA ColumnaB  ColumnaC\n",
      "0        10      abc     10.45\n",
      "1        20     10.5     89.34\n",
      "2        30       34     90.76\n",
      "3        40       xy     24.89\n"
     ]
    }
   ],
   "source": [
    "d={'ColumnaA':pd.Series([10,20,30,40]),'ColumnaB':pd.Series(['abc',10.5,34,'xy']),'ColumnaC':pd.Series([10.45,89.34,90.76,24.89])}\n",
    "df1 = pd.DataFrame(d)\n",
    "print(df1)"
   ]
  },
  {
   "cell_type": "code",
   "execution_count": 24,
   "metadata": {},
   "outputs": [
    {
     "name": "stdout",
     "output_type": "stream",
     "text": [
      "   col1  col2 col3\n",
      "0    10     1    A\n",
      "1    20     2    B\n",
      "2    30     3    C\n",
      "3    40     4    D\n",
      "4    50     5    E\n",
      "5    60     6    F\n"
     ]
    }
   ],
   "source": [
    "df = pd.DataFrame({'col1': [10,20,30,40,50,60], 'col2':[1,2,3,4,5,6], 'col3':['A', 'B', 'C', 'D', 'E', 'F']})\n",
    "print(df)"
   ]
  },
  {
   "cell_type": "code",
   "execution_count": null,
   "metadata": {},
   "outputs": [],
   "source": [
    "dataset = pd.read_csv('hotel_bookings.csv')\n",
    "dataset.shape\n",
    "dataset.head()"
   ]
  }
 ],
 "metadata": {
  "kernelspec": {
   "display_name": "Python 3",
   "language": "python",
   "name": "python3"
  },
  "language_info": {
   "codemirror_mode": {
    "name": "ipython",
    "version": 3
   },
   "file_extension": ".py",
   "mimetype": "text/x-python",
   "name": "python",
   "nbconvert_exporter": "python",
   "pygments_lexer": "ipython3",
   "version": "3.11.1"
  },
  "orig_nbformat": 4,
  "vscode": {
   "interpreter": {
    "hash": "7c063d17b37de0fc154a235cc297f95a093b61bab8c9b90cfdb9eb444cf73c75"
   }
  }
 },
 "nbformat": 4,
 "nbformat_minor": 2
}
