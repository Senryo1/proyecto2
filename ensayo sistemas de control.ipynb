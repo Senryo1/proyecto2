{
 "cells": [
  {
   "attachments": {},
   "cell_type": "markdown",
   "metadata": {},
   "source": [
    "# __Control de versiones__"
   ]
  },
  {
   "attachments": {},
   "cell_type": "markdown",
   "metadata": {},
   "source": [
    "El concepto de control de versiones es un aspecto importante del desarrollo de software. Es una práctica que permite a los desarrolladores hacer un seguimiento de los cambios realizados en un código base, permitiéndoles volver a versiones anteriores cuando sea necesario. En el vídeo \"Control de versiones\", del Instituto Tecnológico de Massachusetts (MIT), se nos presentan ventajas y controles básicos de estos comandos y como pueden sernos útiles. \n",
    "\n",
    "1. En este video se nos explica y define el control de versiones y explica como funciona. El presentador muestra como esto es importante para los desarrolladores ya que nos permite trabajar en colaboración sin riesgo de producir cambios que no sirvan. Y el control que permite a cada uno de los implicados seguir la evolución el código para identificar rápidamente fallos y errores."
   ]
  },
  {
   "attachments": {},
   "cell_type": "markdown",
   "metadata": {},
   "source": [
    "2. Esto aumenta en gran manera la capacidad de colaboración y la capacidad de la misma de cada uno. En el video explica que, al utilizar este sistema, los desarrolladores pueden trabajar en distintas partes del código y fusionar los cambios cuando estos se hayan finalizado. Así se evitan los cambios que no funcionen si no también trabajar simultáneamente en las distintas partes del código. \n",
    "\n",
    "Otra ventaja es el control de las versiones y la posibilidad de revertir los cambios en el mismo. Esto es muy útil cuando un cambio produce un efecto no deseado y hay que eliminar esa parte especifica de la función. En el video se nos mostró además que los sistemas de control permiten a los desarrolladores volver a una versión anterior de una manera muy simple, eliminando cualquier cambio que se haya hecho dese ese momento. "
   ]
  },
  {
   "attachments": {},
   "cell_type": "markdown",
   "metadata": {},
   "source": [
    "Se nos mostro a la vez, una visión general de algunos sistemas de control de versiones mas populares, como Git y subversión entre otras. El presentadore explico que hay diferencias entre estos y nos señala que Git es el mas utilizado, aunque Subversion tiene muchos usuarios.\n",
    "\n",
    "Este video es una introducción clara y concisa de los conceptos de control de versiones para facilitar el uso de estos, codificar con facilidad en colaboración y desarrollar de manera ágil y fácil sin tener que leer todos los códigos una y otra vez para poder detectar errores. \n",
    "\n",
    "En conclusión, el control de versiones es un concepto muy importante en el ámbito del desarrollo de software. Permite hacer versiones de control mientras se trabaja en colaboración con otros y se hace una base de código sin riesgo de tener fallos casi indetectables y con este video se nos dio una excelente introducción a este control de versiones.\n"
   ]
  },
  {
   "attachments": {},
   "cell_type": "markdown",
   "metadata": {},
   "source": [
    "René@DESKTOP-M3ANINP MINGW64 /D/René/Documents/python projects (master)\n",
    "$ git log\n",
    "commit 2b82ad0ae6c0e46dba7ee140585cd05db0f675ad (HEAD -> master)\n",
    "Author: Rene Garcia-Salas <renegs19992@gmail.com>\n",
    "Date:   Tue Feb 7 22:10:52 2023 -0600\n",
    "\n",
    "    Calculos de datos estadisticos y matriz de correlacion hecha\n",
    "\n",
    "commit c634da7048be4efe601c20cf7a0618abbde8fe33\n",
    "Author: Rene Garcia-Salas <renegs19992@gmail.com>\n",
    "Date:   Tue Feb 7 19:51:44 2023 -0600\n",
    "\n",
    "    slicings completados\n",
    "\n",
    "commit 98428d951b885d7df925ef1ec7d47a6e7b73cefd\n",
    "Author: Rene Garcia-Salas <renegs19992@gmail.com>\n",
    "Date:   Mon Feb 6 22:43:01 2023 -0600\n",
    "\n",
    "    cambios para tener los nombres de columnas y data frames ya hechos\n"
   ]
  }
 ],
 "metadata": {
  "kernelspec": {
   "display_name": "Python 3",
   "language": "python",
   "name": "python3"
  },
  "language_info": {
   "codemirror_mode": {
    "name": "ipython",
    "version": 3
   },
   "file_extension": ".py",
   "mimetype": "text/x-python",
   "name": "python",
   "nbconvert_exporter": "python",
   "pygments_lexer": "ipython3",
   "version": "3.11.1"
  },
  "orig_nbformat": 4,
  "vscode": {
   "interpreter": {
    "hash": "7c063d17b37de0fc154a235cc297f95a093b61bab8c9b90cfdb9eb444cf73c75"
   }
  }
 },
 "nbformat": 4,
 "nbformat_minor": 2
}
