{
 "cells": [
  {
   "cell_type": "code",
   "execution_count": 5,
   "metadata": {},
   "outputs": [
    {
     "name": "stdout",
     "output_type": "stream",
     "text": [
      "el tiempo es 1 : 37 : 51\n"
     ]
    }
   ],
   "source": [
    "tiempo = int(input(\"Ingrese los segundos a transformar\"))\n",
    "if tiempo < 0:\n",
    " print (\"ingrese un numero mayor a 0 y no letras\")\n",
    "else:\n",
    "  horas = tiempo//3600\n",
    "  minutos = (tiempo//60) - (horas * 60)\n",
    "  segundos = tiempo - (horas*3600) - (minutos*60)\n",
    "  print (\"el tiempo es\", str(horas),\":\", str(minutos) ,\":\", str(segundos)) "
   ]
  },
  {
   "cell_type": "code",
   "execution_count": 7,
   "metadata": {},
   "outputs": [
    {
     "name": "stdout",
     "output_type": "stream",
     "text": [
      "10      10101010101010101010       10101010101010101010       10\n",
      "1010      101010101010101010       101010101010101010       1010\n",
      "101010      1010101010101010       1010101010101010       101010\n",
      "10101010      10101010101010       10101010101010       10101010\n",
      "1010101010      101010101010       101010101010       1010101010\n",
      "101010101010      1010101010       1010101010       101010101010\n",
      "10101010101010      10101010       10101010       10101010101010\n",
      "1010101010101010      101010       101010       1010101010101010\n",
      "101010101010101010      1010       1010       101010101010101010\n",
      "10101010101010101010      10       10       10101010101010101010\n"
     ]
    }
   ],
   "source": [
    "car = input(\"ingrese el caracter\")\n",
    "cont = int(input(\"ingrese un numero del 1 al 20\"))\n",
    "for i in range (1,cont+1):\n",
    "    print(car*i,\"    \",car*(cont-i+1),\"     \",car*(cont-i+1),\"     \",car*i)"
   ]
  }
 ],
 "metadata": {
  "kernelspec": {
   "display_name": "Python 3",
   "language": "python",
   "name": "python3"
  },
  "language_info": {
   "codemirror_mode": {
    "name": "ipython",
    "version": 3
   },
   "file_extension": ".py",
   "mimetype": "text/x-python",
   "name": "python",
   "nbconvert_exporter": "python",
   "pygments_lexer": "ipython3",
   "version": "3.11.1"
  },
  "orig_nbformat": 4,
  "vscode": {
   "interpreter": {
    "hash": "7c063d17b37de0fc154a235cc297f95a093b61bab8c9b90cfdb9eb444cf73c75"
   }
  }
 },
 "nbformat": 4,
 "nbformat_minor": 2
}
