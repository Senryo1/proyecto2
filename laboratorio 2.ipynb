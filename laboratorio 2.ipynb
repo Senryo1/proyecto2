{
 "cells": [
  {
   "cell_type": "code",
   "execution_count": 5,
   "metadata": {},
   "outputs": [
    {
     "name": "stdout",
     "output_type": "stream",
     "text": [
      "el tiempo es 1 : 37 : 31\n"
     ]
    }
   ],
   "source": [
    "tiempo = int(input(\"Ingrese los segundos a transformar\"))\n",
    "horas = tiempo//3600\n",
    "minutos = (tiempo//60) - (horas * 60)\n",
    "segundos = tiempo - (horas*3600) - (minutos*60)\n",
    "print (\"el tiempo es\", str(horas),\":\", str(minutos) ,\":\", str(segundos)) "
   ]
  }
 ],
 "metadata": {
  "kernelspec": {
   "display_name": "Python 3",
   "language": "python",
   "name": "python3"
  },
  "language_info": {
   "codemirror_mode": {
    "name": "ipython",
    "version": 3
   },
   "file_extension": ".py",
   "mimetype": "text/x-python",
   "name": "python",
   "nbconvert_exporter": "python",
   "pygments_lexer": "ipython3",
   "version": "3.11.1"
  },
  "orig_nbformat": 4,
  "vscode": {
   "interpreter": {
    "hash": "7c063d17b37de0fc154a235cc297f95a093b61bab8c9b90cfdb9eb444cf73c75"
   }
  }
 },
 "nbformat": 4,
 "nbformat_minor": 2
}
