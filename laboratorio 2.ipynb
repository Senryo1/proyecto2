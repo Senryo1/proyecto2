{
 "cells": [
  {
   "attachments": {},
   "cell_type": "markdown",
   "metadata": {},
   "source": [
    "1. Haga un programa en Python que reciba de par´ametro un n´umero de segundos y que despliegue\n",
    "en pantalla, las horas, minutos y segundos que representan. Por ejemplo:\n",
    "Si el n´umero de segundos recibidos fuera: 2743 entonces su programa deber´ıa desplegar:\n",
    "Horas: 0, Minutos: 45 , Segundos: 43\n",
    "Si el n´umero de segundos recibidos fuera 5871: Horas: 1, Minutos: 37 , Segundos: 51"
   ]
  },
  {
   "cell_type": "code",
   "execution_count": 8,
   "metadata": {},
   "outputs": [
    {
     "name": "stdout",
     "output_type": "stream",
     "text": [
      "el tiempo es 0 : 9 : 49\n"
     ]
    }
   ],
   "source": [
    "tiempo = int(input(\"Ingrese los segundos a transformar\"))\n",
    "if tiempo < 0:\n",
    " print (\"ingrese un numero mayor a 0 y no letras\")\n",
    "else:\n",
    "  horas = tiempo//3600\n",
    "  minutos = (tiempo//60) - (horas * 60)\n",
    "  segundos = tiempo - (horas*3600) - (minutos*60)\n",
    "  print (\"el tiempo es\", str(horas),\":\", str(minutos) ,\":\", str(segundos)) "
   ]
  },
  {
   "attachments": {},
   "cell_type": "markdown",
   "metadata": {},
   "source": [
    "Haga una función en Python que dado un número entre 1 y 20. Y un caracter cualquiera\n",
    "despliegue cuatro patrones triangulares."
   ]
  },
  {
   "cell_type": "code",
   "execution_count": 7,
   "metadata": {},
   "outputs": [
    {
     "name": "stdout",
     "output_type": "stream",
     "text": [
      "10      10101010101010101010       10101010101010101010       10\n",
      "1010      101010101010101010       101010101010101010       1010\n",
      "101010      1010101010101010       1010101010101010       101010\n",
      "10101010      10101010101010       10101010101010       10101010\n",
      "1010101010      101010101010       101010101010       1010101010\n",
      "101010101010      1010101010       1010101010       101010101010\n",
      "10101010101010      10101010       10101010       10101010101010\n",
      "1010101010101010      101010       101010       1010101010101010\n",
      "101010101010101010      1010       1010       101010101010101010\n",
      "10101010101010101010      10       10       10101010101010101010\n"
     ]
    }
   ],
   "source": [
    "car = input(\"ingrese el caracter\")\n",
    "cont = int(input(\"ingrese un numero del 1 al 20\"))\n",
    "for i in range (1,cont+1):\n",
    "    print(car*i,\"    \",car*(cont-i+1),\"     \",car*(cont-i+1),\"     \",car*i)"
   ]
  },
  {
   "attachments": {},
   "cell_type": "markdown",
   "metadata": {},
   "source": [
    "Haga un programa en Python que la fecha de nacimiento de una persona (puede ingresar por\n",
    "separado cada valor, es decir pedir primero d´ıa, luego mes y luego a˜no), despliegue la edad\n",
    "de la persona en a˜nos, meses y d´ıas. Su resultado puede ser aproximado."
   ]
  },
  {
   "cell_type": "code",
   "execution_count": 1,
   "metadata": {},
   "outputs": [
    {
     "name": "stdout",
     "output_type": "stream",
     "text": [
      "Su edad es 30 años, 8 meses y 7 días.\n"
     ]
    }
   ],
   "source": [
    "from datetime import date\n",
    "\n",
    "dia = int(input(\"Ingrese el día de nacimiento (1-31): \"))\n",
    "mes = int(input(\"Ingrese el mes de nacimiento (1-12): \"))\n",
    "año = int(input(\"Ingrese el año de nacimiento (ej. 1990): \"))\n",
    "\n",
    "hoy = date.today()\n",
    "cumple = date(año, mes, dia)\n",
    "edad = hoy.year - cumple.year - ((hoy.month, hoy.day) < (cumple.month, cumple.day))\n",
    "\n",
    "if hoy.month < cumple.month or (hoy.month == cumple.month and hoy.day < cumple.day):\n",
    "    meses = 12 - (cumple.month - hoy.month + 1)\n",
    "else:\n",
    "    meses = hoy.month - cumple.month\n",
    "\n",
    "if hoy.day < cumple.day:\n",
    "    dias = cumple.day - hoy.day\n",
    "else:\n",
    "    dias = hoy.day - cumple.day\n",
    "\n",
    "print(f\"Su edad es {edad} años, {meses} meses y {dias} días.\")"
   ]
  },
  {
   "attachments": {},
   "cell_type": "markdown",
   "metadata": {},
   "source": [
    "Escriba una función en Python que dada una tupla de elementos (números o letras) esta se\n",
    "convierta a un string. Tomar nota del siguiente ejemplo:\n",
    "Si la entrada fuera: (10, 20, 40, 5, 70)\n",
    "La salida debería ser: 102040570"
   ]
  },
  {
   "cell_type": "code",
   "execution_count": 9,
   "metadata": {},
   "outputs": [
    {
     "name": "stdout",
     "output_type": "stream",
     "text": [
      "2556jklkdasfasd78fgdfg\n"
     ]
    }
   ],
   "source": [
    "tupla = ()\n",
    "while True:\n",
    "    car = str(input(\"Ingrese el valor a agregar a la tupla, ingrese n cuando ya haya terminado\"))\n",
    "    if car == \"n\":\n",
    "        break\n",
    "    tupla += (car,)\n",
    "val = \"\"    \n",
    "def transformarTupla(tupla):\n",
    "    return ''.join([str(elemento) for elemento in tupla])\n",
    "\n",
    "print(transformarTupla(tupla))"
   ]
  },
  {
   "attachments": {},
   "cell_type": "markdown",
   "metadata": {},
   "source": [
    "Cree un programa en Python que dada una lista de tuplas, elimine las tuplas que están vacías.\n",
    "Tomar nota del siguiente ejemplo:\n",
    "\n",
    "Si la lista fuera: [(), (), (’X’,), (’a’, ’b’), (’a’, ’b’, ’c’), (’d’)]\n",
    "El resultado deber´ıa ser: [(’X’), (’a’, ’b’), (’a’, ’b’, ’c’), ’d’]"
   ]
  },
  {
   "cell_type": "code",
   "execution_count": 12,
   "metadata": {},
   "outputs": [
    {
     "name": "stdout",
     "output_type": "stream",
     "text": [
      "['X', ('a', 'b'), ('a', 'b', 'c'), 'd']\n"
     ]
    }
   ],
   "source": [
    "def eliminar_tuplas_vacias(lista_de_tuplas):\n",
    "    return [tupla for tupla in lista_de_tuplas if tupla != ()]\n",
    "lista = [(\"X\"),(), (),(\"a\", \"b\"), (\"a\", \"b\", \"c\"), (\"d\")]\n",
    "lista_sin = eliminar_tuplas_vacias(lista)\n",
    "print (lista_sin)"
   ]
  },
  {
   "attachments": {},
   "cell_type": "markdown",
   "metadata": {},
   "source": [
    "Cree una funcion en Python que dada una tupla de tuplas con numeros, produzca una tupla\n",
    "con el promedio de cada tupla individual. Tomar nota del siguiente ejemplo:\n",
    "Si la tupla de entrada fuera: ((10, 10, 10, 12), (30, 45, 56, 45), (81, 80, 39, 32))\n",
    "El resultado deber´ıa ser: (10.5, 44, 58)"
   ]
  },
  {
   "cell_type": "code",
   "execution_count": 15,
   "metadata": {},
   "outputs": [
    {
     "name": "stdout",
     "output_type": "stream",
     "text": [
      "(10.5, 44.0, 58.0)\n"
     ]
    }
   ],
   "source": [
    "def promedio_tuplas(tupla_de_numeros):\n",
    "    promedios = []\n",
    "    for tupla in tupla_de_numeros:\n",
    "        promedio = sum(tupla) / len(tupla)\n",
    "        promedios.append(promedio)\n",
    "    return tuple(promedios)\n",
    "tupla_de_numeros = ((10, 10, 10, 12), (30, 45, 56, 45), (81, 80, 39, 32))\n",
    "promedios = promedio_tuplas(tupla_de_numeros)\n",
    "print(promedios)\n"
   ]
  },
  {
   "attachments": {},
   "cell_type": "markdown",
   "metadata": {},
   "source": [
    "7. Escribir un programa que gestione las facturas pendientes de cobro de una empresa. Las\n",
    "facturas se almacenarán en un diccionario donde la llave de cada factura será el número de\n",
    "factura (debe utilizar un numero de 4 dígitos) y el valor el coste de la factura. El programa\n",
    "debe preguntar al usuario si quiere añadir una nueva factura, pagar una existente o terminar.\n",
    "Si desea añadir una nueva factura se preguntará por el número de factura y su coste y se\n",
    "añadirá al diccionario, para confirmar que la factura se ingreso correctamente el programa\n",
    "debe desplegar el diccionario completo. Si se desea pagar una factura se preguntará por el\n",
    "número de factura y se eliminará del diccionario. Después de cada operación el programa\n",
    "debe mostrar en pantalla la cantidad cobrada hasta el momento y la cantidad pendiente"
   ]
  },
  {
   "cell_type": "code",
   "execution_count": 4,
   "metadata": {},
   "outputs": [
    {
     "name": "stdout",
     "output_type": "stream",
     "text": [
      "Acción inválida, intente de nuevo.\n",
      "Cantidad cobrada hasta el momento: 0\n",
      "Cantidad pendiente: 0\n",
      "Acción inválida, intente de nuevo.\n",
      "Cantidad cobrada hasta el momento: 0\n",
      "Cantidad pendiente: 0\n",
      "Acción inválida, intente de nuevo.\n",
      "Cantidad cobrada hasta el momento: 0\n",
      "Cantidad pendiente: 0\n",
      "Acción inválida, intente de nuevo.\n",
      "Cantidad cobrada hasta el momento: 0\n",
      "Cantidad pendiente: 0\n",
      "Acción inválida, intente de nuevo.\n",
      "Cantidad cobrada hasta el momento: 0\n",
      "Cantidad pendiente: 0\n",
      "Acción inválida, intente de nuevo.\n",
      "Cantidad cobrada hasta el momento: 0\n",
      "Cantidad pendiente: 0\n",
      "Acción inválida, intente de nuevo.\n",
      "Cantidad cobrada hasta el momento: 0\n",
      "Cantidad pendiente: 0\n",
      "Acción inválida, intente de nuevo.\n",
      "Cantidad cobrada hasta el momento: 0\n",
      "Cantidad pendiente: 0\n",
      "Acción inválida, intente de nuevo.\n",
      "Cantidad cobrada hasta el momento: 0\n",
      "Cantidad pendiente: 0\n",
      "Acción inválida, intente de nuevo.\n",
      "Cantidad cobrada hasta el momento: 0\n",
      "Cantidad pendiente: 0\n",
      "Acción inválida, intente de nuevo.\n",
      "Cantidad cobrada hasta el momento: 0\n",
      "Cantidad pendiente: 0\n",
      "Acción inválida, intente de nuevo.\n",
      "Cantidad cobrada hasta el momento: 0\n",
      "Cantidad pendiente: 0\n",
      "Acción inválida, intente de nuevo.\n",
      "Cantidad cobrada hasta el momento: 0\n",
      "Cantidad pendiente: 0\n",
      "Acción inválida, intente de nuevo.\n",
      "Cantidad cobrada hasta el momento: 0\n",
      "Cantidad pendiente: 0\n",
      "Acción inválida, intente de nuevo.\n",
      "Cantidad cobrada hasta el momento: 0\n",
      "Cantidad pendiente: 0\n",
      "Acción inválida, intente de nuevo.\n",
      "Cantidad cobrada hasta el momento: 0\n",
      "Cantidad pendiente: 0\n",
      "Acción inválida, intente de nuevo.\n",
      "Cantidad cobrada hasta el momento: 0\n",
      "Cantidad pendiente: 0\n",
      "Acción inválida, intente de nuevo.\n",
      "Cantidad cobrada hasta el momento: 0\n",
      "Cantidad pendiente: 0\n",
      "Acción inválida, intente de nuevo.\n",
      "Cantidad cobrada hasta el momento: 0\n",
      "Cantidad pendiente: 0\n",
      "Acción inválida, intente de nuevo.\n",
      "Cantidad cobrada hasta el momento: 0\n",
      "Cantidad pendiente: 0\n",
      "Acción inválida, intente de nuevo.\n",
      "Cantidad cobrada hasta el momento: 0\n",
      "Cantidad pendiente: 0\n",
      "Acción inválida, intente de nuevo.\n",
      "Cantidad cobrada hasta el momento: 0\n",
      "Cantidad pendiente: 0\n",
      "Acción inválida, intente de nuevo.\n",
      "Cantidad cobrada hasta el momento: 0\n",
      "Cantidad pendiente: 0\n",
      "Acción inválida, intente de nuevo.\n",
      "Cantidad cobrada hasta el momento: 0\n",
      "Cantidad pendiente: 0\n",
      "Acción inválida, intente de nuevo.\n",
      "Cantidad cobrada hasta el momento: 0\n",
      "Cantidad pendiente: 0\n",
      "Acción inválida, intente de nuevo.\n",
      "Cantidad cobrada hasta el momento: 0\n",
      "Cantidad pendiente: 0\n",
      "Acción inválida, intente de nuevo.\n",
      "Cantidad cobrada hasta el momento: 0\n",
      "Cantidad pendiente: 0\n",
      "Acción inválida, intente de nuevo.\n",
      "Cantidad cobrada hasta el momento: 0\n",
      "Cantidad pendiente: 0\n",
      "Acción inválida, intente de nuevo.\n",
      "Cantidad cobrada hasta el momento: 0\n",
      "Cantidad pendiente: 0\n",
      "Acción inválida, intente de nuevo.\n",
      "Cantidad cobrada hasta el momento: 0\n",
      "Cantidad pendiente: 0\n",
      "Acción inválida, intente de nuevo.\n",
      "Cantidad cobrada hasta el momento: 0\n",
      "Cantidad pendiente: 0\n",
      "Acción inválida, intente de nuevo.\n",
      "Cantidad cobrada hasta el momento: 0\n",
      "Cantidad pendiente: 0\n",
      "Acción inválida, intente de nuevo.\n",
      "Cantidad cobrada hasta el momento: 0\n",
      "Cantidad pendiente: 0\n",
      "Acción inválida, intente de nuevo.\n",
      "Cantidad cobrada hasta el momento: 0\n",
      "Cantidad pendiente: 0\n",
      "Acción inválida, intente de nuevo.\n",
      "Cantidad cobrada hasta el momento: 0\n",
      "Cantidad pendiente: 0\n",
      "Acción inválida, intente de nuevo.\n",
      "Cantidad cobrada hasta el momento: 0\n",
      "Cantidad pendiente: 0\n",
      "Acción inválida, intente de nuevo.\n",
      "Cantidad cobrada hasta el momento: 0\n",
      "Cantidad pendiente: 0\n",
      "Acción inválida, intente de nuevo.\n",
      "Cantidad cobrada hasta el momento: 0\n",
      "Cantidad pendiente: 0\n",
      "Acción inválida, intente de nuevo.\n",
      "Cantidad cobrada hasta el momento: 0\n",
      "Cantidad pendiente: 0\n",
      "Acción inválida, intente de nuevo.\n",
      "Cantidad cobrada hasta el momento: 0\n",
      "Cantidad pendiente: 0\n",
      "Acción inválida, intente de nuevo.\n",
      "Cantidad cobrada hasta el momento: 0\n",
      "Cantidad pendiente: 0\n",
      "Acción inválida, intente de nuevo.\n",
      "Cantidad cobrada hasta el momento: 0\n",
      "Cantidad pendiente: 0\n",
      "Acción inválida, intente de nuevo.\n",
      "Cantidad cobrada hasta el momento: 0\n",
      "Cantidad pendiente: 0\n",
      "Acción inválida, intente de nuevo.\n",
      "Cantidad cobrada hasta el momento: 0\n",
      "Cantidad pendiente: 0\n",
      "Acción inválida, intente de nuevo.\n",
      "Cantidad cobrada hasta el momento: 0\n",
      "Cantidad pendiente: 0\n"
     ]
    }
   ],
   "source": [
    "facturas = {}\n",
    "\n",
    "while True:\n",
    "    # Pedir acción al usuario\n",
    "    accion = input(\"¿Qué desea hacer? (añadir/pagar/terminar): \")\n",
    "\n",
    "    if accion == \"añadir\":\n",
    "        # Pedir información de la nueva factura\n",
    "        num_factura = input(\"Ingrese el número de factura (4 dígitos): \")\n",
    "        costo = float(input(\"Ingrese el costo de la factura: \"))\n",
    "\n",
    "        # Agregar factura al diccionario\n",
    "        facturas[num_factura] = costo\n",
    "\n",
    "        # Mostrar el diccionario completo\n",
    "        print(\"Facturas pendientes:\")\n",
    "        print(facturas)\n",
    "\n",
    "    elif accion == \"pagar\":\n",
    "        # Pedir número de factura a pagar\n",
    "        num_factura = input(\"Ingrese el número de factura a pagar: \")\n",
    "\n",
    "        # Verificar si la factura existe y eliminarla del diccionario\n",
    "        if num_factura in facturas:\n",
    "            costo = facturas.pop(num_factura)\n",
    "            print(f\"La factura {num_factura} por {costo} ha sido pagada.\")\n",
    "        else:\n",
    "            print(f\"La factura {num_factura} no existe en el sistema.\")\n",
    "\n",
    "    elif accion == \"terminar\":\n",
    "        break\n",
    "\n",
    "    else:\n",
    "        print(\"Acción inválida, intente de nuevo.\")\n",
    "\n",
    "    # Calcular la cantidad cobrada y pendiente\n",
    "    total_cobrado = sum(facturas.values())\n",
    "    total_pendiente = 0 if not facturas else max(facturas.values())\n",
    "\n",
    "    # Mostrar la cantidad cobrada y pendiente\n",
    "    print(f\"Cantidad cobrada hasta el momento: {total_cobrado}\")\n",
    "    print(f\"Cantidad pendiente: {total_pendiente}\")"
   ]
  },
  {
   "attachments": {},
   "cell_type": "markdown",
   "metadata": {},
   "source": [
    "Haga una función en Python, que cree un set con todas las cartas de una baraja de Pocker\n",
    "utilizando el siguiente formato: Tipo-Numero. Utilice las letras T para tréboles, C para\n",
    "corazones, P para picas y E para espadas. Para los números utilice la numeración del 1 al\n",
    "13 Por ejemplo E13 - sería Rey de Espadas, P01 sería As de Picas, T05 sería cinco de Tréboles.\n",
    "Posteriormente cree una función que dado el conjunto anterior cree dos sets nuevos de cartas,\n",
    "cada conjunto debe tener una cantidad variable de elementos, puede utilizar números aleatorios\n",
    "enteros para definir la longitud de los conjuntos.\n",
    "Adicionalmente, debería calcular la probabilidad de la intersección de ambos conjuntos y demuestre\n",
    "si son eventos independientes con la regla del producto.\n",
    "Para concluir, calcule probabilidad de la unión de ambos conjuntos y demuestre que se cumple\n",
    "la regla de la adición."
   ]
  },
  {
   "cell_type": "code",
   "execution_count": null,
   "metadata": {},
   "outputs": [],
   "source": [
    "import random\n",
    "\n",
    "def crear_baraja():\n",
    "    # Crear un set con todas las cartas de la baraja de Pocker\n",
    "    tipos = ['T', 'C', 'P', 'E']\n",
    "    numeros = [str(i).zfill(2) for i in range(1, 14)]\n",
    "    baraja = {f\"{t}{n}\" for t in tipos for n in numeros}\n",
    "    return baraja\n",
    "\n",
    "def crear_conjuntos(baraja):\n",
    "    # Crear dos sets nuevos de cartas con una cantidad variable de elementos\n",
    "    n1 = random.randint(1, len(baraja))\n",
    "    n2 = random.randint(1, len(baraja))\n",
    "    conjunto1 = set(random.sample(baraja, n1))\n",
    "    conjunto2 = set(random.sample(baraja, n2))\n",
    "    return conjunto1, conjunto2\n",
    "\n",
    "def calcular_probabilidad_interseccion(conjunto1, conjunto2):\n",
    "    # Calcular la probabilidad de la intersección de ambos conjuntos\n",
    "    interseccion = conjunto1.intersection(conjunto2)\n",
    "    prob_interseccion = len(interseccion) / len(conjunto1) / len(conjunto2)\n",
    "    return prob_interseccion\n",
    "\n",
    "def comprobar_independencia(conjunto1, conjunto2):\n",
    "    # Comprobar si ambos eventos son independientes\n",
    "    prob_conjunto1 = len(conjunto1) / len(crear_baraja())\n",
    "    prob_conjunto2 = len(conjunto2) / len(crear_baraja())\n",
    "    prob_interseccion = calcular_probabilidad_interseccion(conjunto1, conjunto2)\n",
    "    if abs(prob_interseccion - prob_conjunto1 * prob_conjunto2) < 1e-10:\n",
    "        print(\"Los eventos son independientes.\")\n",
    "    else:\n",
    "        print(\"Los eventos no son independientes.\")\n",
    "\n",
    "def calcular_probabilidad_union(conjunto1, conjunto2):\n",
    "    # Calcular la probabilidad de la unión de ambos conjuntos\n",
    "    union = conjunto1.union(conjunto2)\n",
    "    prob_union = len(union) / len(crear_baraja())\n",
    "    return prob_union\n",
    "\n",
    "# Crear la baraja y los conjuntos\n",
    "baraja = crear_baraja()\n",
    "conjunto1, conjunto2 = crear_conjuntos(baraja)\n",
    "\n",
    "# Imprimir los conjuntos creados\n",
    "print(\"Conjunto 1:\", conjunto1)\n",
    "print(\"Conjunto 2:\", conjunto2)\n",
    "\n",
    "# Calcular y mostrar la probabilidad de la intersección\n",
    "prob_interseccion = calcular_probabilidad_interseccion(conjunto1, conjunto2)\n",
    "print(\"Probabilidad de la intersección:\", prob_interseccion)\n",
    "\n",
    "# Comprobar si los eventos son independientes\n",
    "comprobar_independencia(conjunto1, conjunto2)\n",
    "\n",
    "# Calcular y mostrar la probabilidad de la unión\n",
    "prob_union = calcular_probabilidad_union(conjunto1, conjunto2)\n",
    "print(\"Probabilidad de la unión:\", prob_union)\n",
    "\n",
    "# Comprobar si se cumple la regla de la adición\n",
    "if abs(prob_union - (len(conjunto1) + len(conjunto2) - prob_interseccion) / len(crear_baraja())) < 1e-10:\n",
    "    print(\"Se cumple la regla de la adición.\")\n",
    "else:\n",
    "    print(\"No se cumple la regla de la adición.\")\n"
   ]
  },
  {
   "cell_type": "code",
   "execution_count": 2,
   "metadata": {},
   "outputs": [
    {
     "name": "stderr",
     "output_type": "stream",
     "text": [
      "warning: in the working copy of 'laboratorio 2.ipynb', LF will be replaced by CRLF the next time Git touches it\n"
     ]
    },
    {
     "name": "stdout",
     "output_type": "stream",
     "text": [
      "[master 47dffd1] ejercicio 7 hecho\n",
      " 1 file changed, 206 insertions(+), 3 deletions(-)\n"
     ]
    },
    {
     "name": "stderr",
     "output_type": "stream",
     "text": [
      "To https://github.com/Senryo1/proyecto2.git\n",
      "   5a8490a..47dffd1  master -> master\n"
     ]
    }
   ],
   "source": [
    "! git add .\n",
    "! git commit -m \"ejercicio 7 hecho\"\n",
    "! git push\n"
   ]
  }
 ],
 "metadata": {
  "kernelspec": {
   "display_name": "Python 3",
   "language": "python",
   "name": "python3"
  },
  "language_info": {
   "codemirror_mode": {
    "name": "ipython",
    "version": 3
   },
   "file_extension": ".py",
   "mimetype": "text/x-python",
   "name": "python",
   "nbconvert_exporter": "python",
   "pygments_lexer": "ipython3",
   "version": "3.9.13"
  },
  "orig_nbformat": 4,
  "vscode": {
   "interpreter": {
    "hash": "7c063d17b37de0fc154a235cc297f95a093b61bab8c9b90cfdb9eb444cf73c75"
   }
  }
 },
 "nbformat": 4,
 "nbformat_minor": 2
}
