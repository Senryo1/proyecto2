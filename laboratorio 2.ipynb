{
 "cells": [
  {
   "attachments": {},
   "cell_type": "markdown",
   "metadata": {},
   "source": [
    "1. Haga un programa en Python que reciba de par´ametro un n´umero de segundos y que despliegue\n",
    "en pantalla, las horas, minutos y segundos que representan. Por ejemplo:\n",
    "Si el n´umero de segundos recibidos fuera: 2743 entonces su programa deber´ıa desplegar:\n",
    "Horas: 0, Minutos: 45 , Segundos: 43\n",
    "Si el n´umero de segundos recibidos fuera 5871: Horas: 1, Minutos: 37 , Segundos: 51"
   ]
  },
  {
   "cell_type": "code",
   "execution_count": 8,
   "metadata": {},
   "outputs": [
    {
     "name": "stdout",
     "output_type": "stream",
     "text": [
      "el tiempo es 0 : 9 : 49\n"
     ]
    }
   ],
   "source": [
    "tiempo = int(input(\"Ingrese los segundos a transformar\"))\n",
    "if tiempo < 0:\n",
    " print (\"ingrese un numero mayor a 0 y no letras\")\n",
    "else:\n",
    "  horas = tiempo//3600\n",
    "  minutos = (tiempo//60) - (horas * 60)\n",
    "  segundos = tiempo - (horas*3600) - (minutos*60)\n",
    "  print (\"el tiempo es\", str(horas),\":\", str(minutos) ,\":\", str(segundos)) "
   ]
  },
  {
   "attachments": {},
   "cell_type": "markdown",
   "metadata": {},
   "source": [
    "Haga una función en Python que dado un número entre 1 y 20. Y un caracter cualquiera\n",
    "despliegue cuatro patrones triangulares."
   ]
  },
  {
   "cell_type": "code",
   "execution_count": 7,
   "metadata": {},
   "outputs": [
    {
     "name": "stdout",
     "output_type": "stream",
     "text": [
      "10      10101010101010101010       10101010101010101010       10\n",
      "1010      101010101010101010       101010101010101010       1010\n",
      "101010      1010101010101010       1010101010101010       101010\n",
      "10101010      10101010101010       10101010101010       10101010\n",
      "1010101010      101010101010       101010101010       1010101010\n",
      "101010101010      1010101010       1010101010       101010101010\n",
      "10101010101010      10101010       10101010       10101010101010\n",
      "1010101010101010      101010       101010       1010101010101010\n",
      "101010101010101010      1010       1010       101010101010101010\n",
      "10101010101010101010      10       10       10101010101010101010\n"
     ]
    }
   ],
   "source": [
    "car = input(\"ingrese el caracter\")\n",
    "cont = int(input(\"ingrese un numero del 1 al 20\"))\n",
    "for i in range (1,cont+1):\n",
    "    print(car*i,\"    \",car*(cont-i+1),\"     \",car*(cont-i+1),\"     \",car*i)"
   ]
  },
  {
   "attachments": {},
   "cell_type": "markdown",
   "metadata": {},
   "source": [
    "Haga un programa en Python que la fecha de nacimiento de una persona (puede ingresar por\n",
    "separado cada valor, es decir pedir primero d´ıa, luego mes y luego a˜no), despliegue la edad\n",
    "de la persona en a˜nos, meses y d´ıas. Su resultado puede ser aproximado."
   ]
  },
  {
   "cell_type": "code",
   "execution_count": 7,
   "metadata": {},
   "outputs": [
    {
     "ename": "TypeError",
     "evalue": "unsupported type for timedelta days component: datetime.datetime",
     "output_type": "error",
     "traceback": [
      "\u001b[1;31m---------------------------------------------------------------------------\u001b[0m",
      "\u001b[1;31mTypeError\u001b[0m                                 Traceback (most recent call last)",
      "Cell \u001b[1;32mIn[7], line 7\u001b[0m\n\u001b[0;32m      5\u001b[0m fechahoy \u001b[39m=\u001b[39m datetime\u001b[39m.\u001b[39mtoday\n\u001b[0;32m      6\u001b[0m fecha \u001b[39m=\u001b[39m datetime(año,mes,dia)\n\u001b[1;32m----> 7\u001b[0m Dif \u001b[39m=\u001b[39m fechahoy \u001b[39m-\u001b[39m timedelta(fecha)\n",
      "\u001b[1;31mTypeError\u001b[0m: unsupported type for timedelta days component: datetime.datetime"
     ]
    }
   ],
   "source": [
    "from datetime import datetime, timedelta\n",
    "dia = int(input(\"ingrese su dia de nacimiento\"))\n",
    "mes = int(input(\"ingrese su mes de nacimiento\"))\n",
    "año = int(input(\"ingrese su año de nacimiento\"))\n",
    "fechahoy = datetime.today\n",
    "fecha = datetime(año,mes,dia)\n",
    "Dif = fechahoy - timedelta(fecha)"
   ]
  },
  {
   "attachments": {},
   "cell_type": "markdown",
   "metadata": {},
   "source": [
    "Escriba una función en Python que dada una tupla de elementos (números o letras) esta se\n",
    "convierta a un string. Tomar nota del siguiente ejemplo:\n",
    "Si la entrada fuera: (10, 20, 40, 5, 70)\n",
    "La salida debería ser: 102040570"
   ]
  },
  {
   "cell_type": "code",
   "execution_count": 9,
   "metadata": {},
   "outputs": [
    {
     "name": "stdout",
     "output_type": "stream",
     "text": [
      "2556jklkdasfasd78fgdfg\n"
     ]
    }
   ],
   "source": [
    "tupla = ()\n",
    "while True:\n",
    "    car = str(input(\"Ingrese el valor a agregar a la tupla, ingrese n cuando ya haya terminado\"))\n",
    "    if car == \"n\":\n",
    "        break\n",
    "    tupla += (car,)\n",
    "val = \"\"    \n",
    "def transformarTupla(tupla):\n",
    "    return ''.join([str(elemento) for elemento in tupla])\n",
    "\n",
    "print(transformarTupla(tupla))"
   ]
  },
  {
   "attachments": {},
   "cell_type": "markdown",
   "metadata": {},
   "source": [
    "Cree un programa en Python que dada una lista de tuplas, elimine las tuplas que están vacías.\n",
    "Tomar nota del siguiente ejemplo:\n",
    "\n",
    "Si la lista fuera: [(), (), (’X’,), (’a’, ’b’), (’a’, ’b’, ’c’), (’d’)]\n",
    "El resultado deber´ıa ser: [(’X’), (’a’, ’b’), (’a’, ’b’, ’c’), ’d’]"
   ]
  },
  {
   "cell_type": "code",
   "execution_count": 12,
   "metadata": {},
   "outputs": [
    {
     "name": "stdout",
     "output_type": "stream",
     "text": [
      "['X', ('a', 'b'), ('a', 'b', 'c'), 'd']\n"
     ]
    }
   ],
   "source": [
    "def eliminar_tuplas_vacias(lista_de_tuplas):\n",
    "    return [tupla for tupla in lista_de_tuplas if tupla != ()]\n",
    "lista = [(\"X\"),(), (),(\"a\", \"b\"), (\"a\", \"b\", \"c\"), (\"d\")]\n",
    "lista_sin = eliminar_tuplas_vacias(lista)\n",
    "print (lista_sin)"
   ]
  },
  {
   "attachments": {},
   "cell_type": "markdown",
   "metadata": {},
   "source": [
    "Cree una funcion en Python que dada una tupla de tuplas con numeros, produzca una tupla\n",
    "con el promedio de cada tupla individual. Tomar nota del siguiente ejemplo:\n",
    "Si la tupla de entrada fuera: ((10, 10, 10, 12), (30, 45, 56, 45), (81, 80, 39, 32))\n",
    "El resultado deber´ıa ser: (10.5, 44, 58)"
   ]
  },
  {
   "cell_type": "code",
   "execution_count": 15,
   "metadata": {},
   "outputs": [
    {
     "name": "stdout",
     "output_type": "stream",
     "text": [
      "(10.5, 44.0, 58.0)\n"
     ]
    }
   ],
   "source": [
    "def promedio_tuplas(tupla_de_numeros):\n",
    "    promedios = []\n",
    "    for tupla in tupla_de_numeros:\n",
    "        promedio = sum(tupla) / len(tupla)\n",
    "        promedios.append(promedio)\n",
    "    return tuple(promedios)\n",
    "tupla_de_numeros = ((10, 10, 10, 12), (30, 45, 56, 45), (81, 80, 39, 32))\n",
    "promedios = promedio_tuplas(tupla_de_numeros)\n",
    "print(promedios)\n"
   ]
  },
  {
   "cell_type": "code",
   "execution_count": 16,
   "metadata": {},
   "outputs": [
    {
     "name": "stdout",
     "output_type": "stream",
     "text": [
      "On branch master\n",
      "Your branch is up to date with 'origin/master'.\n",
      "\n",
      "Changes not staged for commit:\n",
      "  (use \"git add <file>...\" to update what will be committed)\n",
      "  (use \"git restore <file>...\" to discard changes in working directory)\n",
      "  (commit or discard the untracked or modified content in submodules)\n",
      "\tmodified:   repogit/proyecto (modified content)\n",
      "\n",
      "no changes added to commit (use \"git add\" and/or \"git commit -a\")\n"
     ]
    },
    {
     "name": "stderr",
     "output_type": "stream",
     "text": [
      "Everything up-to-date\n"
     ]
    }
   ],
   "source": [
    "! git add .\n",
    "! git commit -m \"commit del 6 ejercicio\"\n",
    "! git push\n"
   ]
  }
 ],
 "metadata": {
  "kernelspec": {
   "display_name": "Python 3",
   "language": "python",
   "name": "python3"
  },
  "language_info": {
   "codemirror_mode": {
    "name": "ipython",
    "version": 3
   },
   "file_extension": ".py",
   "mimetype": "text/x-python",
   "name": "python",
   "nbconvert_exporter": "python",
   "pygments_lexer": "ipython3",
   "version": "3.9.13"
  },
  "orig_nbformat": 4,
  "vscode": {
   "interpreter": {
    "hash": "7c063d17b37de0fc154a235cc297f95a093b61bab8c9b90cfdb9eb444cf73c75"
   }
  }
 },
 "nbformat": 4,
 "nbformat_minor": 2
}
